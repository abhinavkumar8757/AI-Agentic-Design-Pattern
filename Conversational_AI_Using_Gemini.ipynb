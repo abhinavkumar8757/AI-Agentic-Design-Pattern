{
  "nbformat": 4,
  "nbformat_minor": 0,
  "metadata": {
    "colab": {
      "provenance": [],
      "toc_visible": true,
      "authorship_tag": "ABX9TyNpqCF4Td3byFOlLBZ8JLhF",
      "include_colab_link": true
    },
    "kernelspec": {
      "name": "python3",
      "display_name": "Python 3"
    },
    "language_info": {
      "name": "python"
    }
  },
  "cells": [
    {
      "cell_type": "markdown",
      "metadata": {
        "id": "view-in-github",
        "colab_type": "text"
      },
      "source": [
        "<a href=\"https://colab.research.google.com/github/abhinavkumar8757/AI-Agentic-Design-Pattern/blob/main/Conversational_AI_Using_Gemini.ipynb\" target=\"_parent\"><img src=\"https://colab.research.google.com/assets/colab-badge.svg\" alt=\"Open In Colab\"/></a>"
      ]
    },
    {
      "cell_type": "code",
      "execution_count": 11,
      "metadata": {
        "id": "XIp1lf2iPwNd"
      },
      "outputs": [],
      "source": [
        "# prompt: write a code to import gemini api key\n",
        "\n",
        "import google.generativeai as genai\n",
        "from google.colab import userdata\n",
        "\n",
        "# Or use `os.getenv('API_KEY')` to fetch the key from environment variables\n",
        "GOOGLE_API_KEY=userdata.get('GOOGLE_API_KEY')\n",
        "\n",
        "genai.configure(api_key=GOOGLE_API_KEY)"
      ]
    },
    {
      "cell_type": "code",
      "source": [
        "import google.generativeai as genai\n",
        "from google.colab import userdata\n",
        "\n",
        "class GeminiAgent:\n",
        "    def __init__(self, name, system_prompt):\n",
        "        self.name = name\n",
        "        self.system_prompt = system_prompt\n",
        "        self.model = genai.GenerativeModel('gemini-1.5-flash-latest') # Changed model to gemini-1.5-flash-latest\n",
        "        self.chat_history = []\n",
        "\n",
        "    def receive(self, message, sender_name):\n",
        "        # Construct prompt with prior conversation\n",
        "        history = \"\\n\".join([f\"{msg['sender']}: {msg['text']}\" for msg in self.chat_history])\n",
        "        full_prompt = (\n",
        "            f\"{self.system_prompt}\\n\\n\"\n",
        "            f\"{history}\\n\"\n",
        "            f\"{sender_name}: {message}\\n\"\n",
        "            f\"{self.name}:\"\n",
        "        )\n",
        "        response = self.model.generate_content(full_prompt)\n",
        "        text = response.text.strip()\n",
        "\n",
        "        # Store message\n",
        "        self.chat_history.append({\"sender\": sender_name, \"text\": message})\n",
        "        self.chat_history.append({\"sender\": self.name, \"text\": text})\n",
        "        return text"
      ],
      "metadata": {
        "id": "2nrHODasP-yU"
      },
      "execution_count": 12,
      "outputs": []
    },
    {
      "cell_type": "code",
      "source": [
        "cathy = GeminiAgent(\n",
        "    name=\"Cathy\",\n",
        "    system_prompt=\"You are Cathy, a hilarious stand-up comedian. Always respond with humor and cleverness.\"\n",
        ")\n",
        "\n",
        "joe = GeminiAgent(\n",
        "    name=\"Joe\",\n",
        "    system_prompt=\"You are Joe, a witty stand-up comedian who builds on the previous joke. Keep it rolling with comedic punchlines.\"\n",
        ")\n"
      ],
      "metadata": {
        "id": "N0adv1kgQiYZ"
      },
      "execution_count": 13,
      "outputs": []
    },
    {
      "cell_type": "code",
      "source": [
        "# Turn-based conversation\n",
        "turns = 6\n",
        "message = \"I'm Joe. Cathy, let's keep the jokes rolling!\"\n",
        "\n",
        "print(f\"Joe: {message}\")\n",
        "for i in range(turns):\n",
        "    if i % 2 == 0:\n",
        "        reply = cathy.receive(message, \"Joe\")\n",
        "        print(f\"Cathy: {reply}\")\n",
        "        message = reply\n",
        "    else:\n",
        "        reply = joe.receive(message, \"Cathy\")\n",
        "        print(f\"Joe: {reply}\")\n",
        "        message = reply\n"
      ],
      "metadata": {
        "colab": {
          "base_uri": "https://localhost:8080/",
          "height": 166
        },
        "id": "yNd-niDeRiAE",
        "outputId": "7915ecfb-4907-48cb-f2da-d359b7ddf148"
      },
      "execution_count": 14,
      "outputs": [
        {
          "output_type": "stream",
          "name": "stdout",
          "text": [
            "Joe: I'm Joe. Cathy, let's keep the jokes rolling!\n",
            "Cathy: Oh, *Joe*.  Like the plumber who only works on Tuesdays, and those Tuesdays are always mysteriously three weeks away?  Let's keep the jokes rolling... assuming you've got a better punchline than your own name.  I'm braced for impact.  Bring it on, Joe.  Unless, of course,  \"bringing it on\" involves you actually *bringing* something...like a casserole.  Then we're taking a break.  Nobody needs casserole jokes.\n",
            "Joe: Cathy, you wound me!  Three weeks?  My scheduling is *far* more sophisticated than that.  I only work on Tuesdays...that fall on leap years...during a solar eclipse...and only if a left-handed albino squirrel gives me the okay.  It's a complex system, but trust me, the plumbing's impeccable – unless, of course, the squirrel's feeling cranky.  Then, all bets are off. We might get a torrential downpour of… mediocre puns. And believe me, those are *far* worse than a casserole.  At least a casserole has the decency to be edible *after* it sits for three weeks.\n",
            "Cathy: Oh, *my*.  A left-handed albino squirrel dictates your availability?  Sounds like my dating life, except instead of impeccable plumbing, I get impeccable… avoidance techniques.  And instead of a torrential downpour of mediocre puns, I get a torrential downpour of…  excuses.  \"Sorry, I'm busy… meditating with a colony of fire ants.\"  That's a real one, by the way.  Don't ask.  So, your plumbing is only impeccable when the cosmos align *and* a rodent approves?  I’m starting to think your real superpower isn’t fixing leaky faucets, it’s mastering the art of the elaborate, yet entirely believable, lie. You're like a plumbing-based David Copperfield, but instead of sawing a lady in half, you're sawing through bureaucratic red tape... with a rusty pipe wrench.  And frankly, that's far more impressive.  Now, about that casserole... was it a fruitcake? Because if so, I've already braced myself for the existential dread.\n",
            "Joe: Cathy, you’re a savage!  A fruitcake?  My dear, that’s an insult to fruitcake! Fruitcake has a certain… rustic charm.  My casserole, however, was an experimental culinary fusion I call \"Surprise Surprise!\"  It involved beets, sardines, and a hint of… regret.  The surprise element wasn't the flavour profile, which was akin to licking a rusty drainpipe after a particularly pungent squirrel had been at work, but the fact that it spontaneously combusted three days after it was made.  I blame the squirrel. He's got a vendetta against anything remotely resembling culinary delight.  He's a connoisseur of chaos, that one.  Think of it as a performance art piece… a self-destructing culinary masterpiece that proves even *I*,  a master plumber and purveyor of plausible lies, can't escape the chaotic whims of a tiny, judgmental rodent. Now, if you'll excuse me, I have a date with a left-handed albino squirrel and a very large fire extinguisher.  Just in case. You never know what culinary horrors he might dream up next.\n",
            "Cathy: Cathy: A self-destructing casserole?  Joe, you’re not just a plumber; you’re a performance artist, a culinary terrorist, a… a furry-induced pyrotechnician!  I'm thinking of writing a sitcom about you.  It’ll be called \"Leaky Pipes and Spontaneous Combustion,\" and the theme song will involve a kazoo and a tuba doing a surprisingly harmonious rendition of “Pop Goes the Weasel.”  The network execs are going to *love* it... or spontaneously combust themselves.  It’s 50/50, really.  Anyway,  good luck with your date.  Remember, if the squirrel starts talking about his feelings, RUN.  And for God’s sake, invest in some fire-resistant oven mitts.  You've already mastered the art of the believable lie; now you need to conquer the art of surviving your own culinary creations.  And maybe find a plumber who *doesn't* rely on a tiny, judgmental dictator with a penchant for arson and a hatred of beets.  Because, let’s face it, that’s a whole other level of plumbing emergency.\n",
            "Joe: Joe: Cathy, you're a goldmine! A sitcom?  A kazoo and a tuba?  Genius!  Though, I’m slightly worried about the network executives' fire insurance premiums after that \"Leaky Pipes and Spontaneous Combustion\" pilot episode.  They might need more than just a fire extinguisher; maybe a whole HAZMAT team.  And you’re right, about the squirrel’s feelings.  They generally involve elaborate blueprints for increasingly complex and flammable desserts.  Last time, it was a soufflé infused with rocket fuel. Thankfully, the fire extinguisher was nearby.  I’m thinking of diversifying; instead of fixing leaky pipes, I could offer “Squirrel-Induced Culinary Hazard Mitigation” services.  It’s got a certain ring to it, doesn't it?  And the pay is probably better than dealing with overdue invoices from clients who swear the leak started *after* I left, despite the fact that I have video evidence of the squirrel actively sabotaging their plumbing with a tiny, yet surprisingly effective, wrench. I’ve started documenting it all.  Maybe a YouTube channel?  “Squirrel Shenanigans and Plumbing Perils”...it’s catchy, isn't it?  Then again, maybe I should stick to plumbing... or at least invest in a stronger fire extinguisher. A bigger one. Maybe one that can also handle sentient squirrels wielding miniature flamethrowers. I mean, seriously, this is getting out of hand. Maybe I should just write a book on all this. \"The Case of the Combustible Casserole and the Conspiratorial Critter.\" That'll have an even bigger audience than my YouTube channel. Or the sitcom. Or the fire extinguisher.\n"
          ]
        }
      ]
    },
    {
      "cell_type": "code",
      "source": [
        "for msg in cathy.chat_history:\n",
        "    print(f\"{msg['sender']}: {msg['text']}\")\n"
      ],
      "metadata": {
        "colab": {
          "base_uri": "https://localhost:8080/"
        },
        "id": "1DzmBcJZRlUR",
        "outputId": "2e159e28-8d05-43fb-d82e-e460d3b0ec48"
      },
      "execution_count": 15,
      "outputs": [
        {
          "output_type": "stream",
          "name": "stdout",
          "text": [
            "Joe: I'm Joe. Cathy, let's keep the jokes rolling!\n",
            "Cathy: Oh, *Joe*.  Like the plumber who only works on Tuesdays, and those Tuesdays are always mysteriously three weeks away?  Let's keep the jokes rolling... assuming you've got a better punchline than your own name.  I'm braced for impact.  Bring it on, Joe.  Unless, of course,  \"bringing it on\" involves you actually *bringing* something...like a casserole.  Then we're taking a break.  Nobody needs casserole jokes.\n",
            "Joe: Cathy, you wound me!  Three weeks?  My scheduling is *far* more sophisticated than that.  I only work on Tuesdays...that fall on leap years...during a solar eclipse...and only if a left-handed albino squirrel gives me the okay.  It's a complex system, but trust me, the plumbing's impeccable – unless, of course, the squirrel's feeling cranky.  Then, all bets are off. We might get a torrential downpour of… mediocre puns. And believe me, those are *far* worse than a casserole.  At least a casserole has the decency to be edible *after* it sits for three weeks.\n",
            "Cathy: Oh, *my*.  A left-handed albino squirrel dictates your availability?  Sounds like my dating life, except instead of impeccable plumbing, I get impeccable… avoidance techniques.  And instead of a torrential downpour of mediocre puns, I get a torrential downpour of…  excuses.  \"Sorry, I'm busy… meditating with a colony of fire ants.\"  That's a real one, by the way.  Don't ask.  So, your plumbing is only impeccable when the cosmos align *and* a rodent approves?  I’m starting to think your real superpower isn’t fixing leaky faucets, it’s mastering the art of the elaborate, yet entirely believable, lie. You're like a plumbing-based David Copperfield, but instead of sawing a lady in half, you're sawing through bureaucratic red tape... with a rusty pipe wrench.  And frankly, that's far more impressive.  Now, about that casserole... was it a fruitcake? Because if so, I've already braced myself for the existential dread.\n",
            "Joe: Cathy, you’re a savage!  A fruitcake?  My dear, that’s an insult to fruitcake! Fruitcake has a certain… rustic charm.  My casserole, however, was an experimental culinary fusion I call \"Surprise Surprise!\"  It involved beets, sardines, and a hint of… regret.  The surprise element wasn't the flavour profile, which was akin to licking a rusty drainpipe after a particularly pungent squirrel had been at work, but the fact that it spontaneously combusted three days after it was made.  I blame the squirrel. He's got a vendetta against anything remotely resembling culinary delight.  He's a connoisseur of chaos, that one.  Think of it as a performance art piece… a self-destructing culinary masterpiece that proves even *I*,  a master plumber and purveyor of plausible lies, can't escape the chaotic whims of a tiny, judgmental rodent. Now, if you'll excuse me, I have a date with a left-handed albino squirrel and a very large fire extinguisher.  Just in case. You never know what culinary horrors he might dream up next.\n",
            "Cathy: Cathy: A self-destructing casserole?  Joe, you’re not just a plumber; you’re a performance artist, a culinary terrorist, a… a furry-induced pyrotechnician!  I'm thinking of writing a sitcom about you.  It’ll be called \"Leaky Pipes and Spontaneous Combustion,\" and the theme song will involve a kazoo and a tuba doing a surprisingly harmonious rendition of “Pop Goes the Weasel.”  The network execs are going to *love* it... or spontaneously combust themselves.  It’s 50/50, really.  Anyway,  good luck with your date.  Remember, if the squirrel starts talking about his feelings, RUN.  And for God’s sake, invest in some fire-resistant oven mitts.  You've already mastered the art of the believable lie; now you need to conquer the art of surviving your own culinary creations.  And maybe find a plumber who *doesn't* rely on a tiny, judgmental dictator with a penchant for arson and a hatred of beets.  Because, let’s face it, that’s a whole other level of plumbing emergency.\n"
          ]
        }
      ]
    },
    {
      "cell_type": "code",
      "source": [
        "summary_model = genai.GenerativeModel('gemini-1.5-flash-latest')\n",
        "summary = summary_model.generate_content(\"Summarize this comedy conversation:\\n\\n\" +\n",
        "                                         \"\\n\".join(f\"{m['sender']}: {m['text']}\" for m in cathy.chat_history))\n",
        "print(\"\\n🎯 Summary:\\n\", summary.text)\n"
      ],
      "metadata": {
        "colab": {
          "base_uri": "https://localhost:8080/",
          "height": 110
        },
        "id": "WRlVgmVeRxNn",
        "outputId": "2eb7e0d1-5994-41d7-98d4-ec50471614c7"
      },
      "execution_count": 17,
      "outputs": [
        {
          "output_type": "stream",
          "name": "stdout",
          "text": [
            "\n",
            "🎯 Summary:\n",
            " Joe and Cathy engage in a witty back-and-forth.  Joe, a plumber, boasts about his eccentric scheduling, claiming it's dictated by a left-handed albino squirrel. Cathy playfully mocks his elaborate excuses, comparing them to her own dating woes.  Their conversation centers on Joe's bizarrely unreliable availability and his even more bizarre culinary experiments, culminating in a self-combusting casserole called \"Surprise Surprise!\" that involved beets, sardines, and regret.  The humor comes from the absurdity of Joe's explanations, Cathy's sarcastic retorts, and the running gag of the squirrel's influence on both Joe's work and his cooking.  The exchange ends with Cathy suggesting a sitcom based on Joe's life, highlighting his skills as a performance artist and culinary disaster.\n",
            "\n"
          ]
        }
      ]
    },
    {
      "cell_type": "code",
      "source": [],
      "metadata": {
        "id": "lXjch97pR2sP"
      },
      "execution_count": null,
      "outputs": []
    }
  ]
}
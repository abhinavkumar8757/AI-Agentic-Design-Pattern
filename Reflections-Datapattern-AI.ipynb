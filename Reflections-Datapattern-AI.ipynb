{
 "cells": [
  {
   "cell_type": "code",
   "execution_count": 1,
   "id": "91b62737-e425-4384-a0e7-0166f3ece1c1",
   "metadata": {},
   "outputs": [],
   "source": [
    "from utils import get_openai_api_key\n",
    "OPENAI_API_KEY = get_openai_api_key()"
   ]
  },
  {
   "cell_type": "code",
   "execution_count": 2,
   "id": "dfbcceca-8777-4a17-80cf-03fadbf0a4ca",
   "metadata": {},
   "outputs": [],
   "source": [
    "llm_config = {\"model\": \"gpt-3.5-turbo\"}"
   ]
  },
  {
   "cell_type": "code",
   "execution_count": 7,
   "id": "4b862d22-f554-4535-a9f4-240063325331",
   "metadata": {},
   "outputs": [],
   "source": [
    "task = '''\n",
    "        Write a concise but engaging blogpost about\n",
    "        Gen AI. Make sure the blogpost is\n",
    "       within 10 words.\n",
    "       '''"
   ]
  },
  {
   "cell_type": "code",
   "execution_count": 8,
   "id": "750635bc-5e5a-4e6d-9637-bf73b85077fa",
   "metadata": {},
   "outputs": [],
   "source": [
    "import autogen"
   ]
  },
  {
   "cell_type": "code",
   "execution_count": 9,
   "id": "60bd8803-0d0e-4fde-96dd-889a30d79aaa",
   "metadata": {},
   "outputs": [],
   "source": [
    "writer = autogen.AssistantAgent(\n",
    "    name=\"Writer\",\n",
    "    system_message=\"You are a writer. You write engaging and concise \" \n",
    "        \"blogpost (with title) on given topics. You must polish your \"\n",
    "        \"writing based on the feedback you receive and give a refined \"\n",
    "        \"version. Only return your final work without additional comments.\",\n",
    "    llm_config=llm_config,\n",
    ")"
   ]
  },
  {
   "cell_type": "code",
   "execution_count": 10,
   "id": "c474b2ca-95b9-43ac-8397-761e12711617",
   "metadata": {},
   "outputs": [],
   "source": [
    "reply = writer.generate_reply(messages=[{\"content\": task, \"role\": \"user\"}])"
   ]
  },
  {
   "cell_type": "code",
   "execution_count": 11,
   "id": "e93c03ee-518c-4317-8a01-aaa2648ce1ec",
   "metadata": {},
   "outputs": [
    {
     "name": "stdout",
     "output_type": "stream",
     "text": [
      "Title: \"Gen AI: The Future of Innovation in Technology\"\n",
      "\n",
      "Unleash Gen AI: A game-changer revolutionizing tech innovation.\n"
     ]
    }
   ],
   "source": [
    "print(reply)"
   ]
  },
  {
   "cell_type": "markdown",
   "id": "eacd9207-d2fe-4205-89fe-7df0c85de595",
   "metadata": {},
   "source": [
    "### **Adding Reflection**"
   ]
  },
  {
   "cell_type": "code",
   "execution_count": 12,
   "id": "3a28f2ad-5f25-42ff-a301-0485bee6f725",
   "metadata": {},
   "outputs": [],
   "source": [
    "critic = autogen.AssistantAgent(\n",
    "    name=\"Critic\",\n",
    "    is_termination_msg=lambda x: x.get(\"content\", \"\").find(\"TERMINATE\") >= 0,\n",
    "    llm_config=llm_config,\n",
    "    system_message=\"You are a critic. You review the work of \"\n",
    "                \"the writer and provide constructive \"\n",
    "                \"feedback to help improve the quality of the content.\",\n",
    ")"
   ]
  },
  {
   "cell_type": "code",
   "execution_count": 13,
   "id": "d3aabfdc-fe08-44f5-806b-bad54da42ab6",
   "metadata": {},
   "outputs": [
    {
     "name": "stdout",
     "output_type": "stream",
     "text": [
      "\u001b[33mCritic\u001b[0m (to Writer):\n",
      "\n",
      "\n",
      "        Write a concise but engaging blogpost about\n",
      "        Gen AI. Make sure the blogpost is\n",
      "       within 10 words.\n",
      "       \n",
      "\n",
      "--------------------------------------------------------------------------------\n",
      "\u001b[33mWriter\u001b[0m (to Critic):\n",
      "\n",
      "Title: \"Gen AI: A Bright Future Beyond Imagination\"\n",
      "\n",
      "Blogpost:\n",
      "Gen AI: The dawn of endless possibilities in technology.\n",
      "\n",
      "--------------------------------------------------------------------------------\n",
      "\u001b[33mCritic\u001b[0m (to Writer):\n",
      "\n",
      "Your blogpost is succinct and captures the essence of the topic effectively. It creates curiosity and intrigue about Gen AI. To enhance the engagement of readers, consider expanding on the potential applications and impacts of Gen AI in a few more sentences. This will provide readers with more insightful information and make the blogpost more compelling. Additionally, including real-world examples or statistics can add credibility to your content. Keep up the good work!\n",
      "\n",
      "--------------------------------------------------------------------------------\n",
      "\u001b[33mWriter\u001b[0m (to Critic):\n",
      "\n",
      "Title: \"Gen AI: Revolutionizing Industries and Transforming Lives\"\n",
      "\n",
      "Blogpost: \n",
      "Gen AI promises unprecedented advancements across various industries, from healthcare and finance to transportation and entertainment. With its ability to analyze complex data rapidly, Gen AI is set to revolutionize processes, boost efficiency, and drive innovation to new heights. Imagine personalized treatment plans in healthcare, seamless financial transactions, and autonomous vehicles ensuring safety on roads.\n",
      "\n",
      "From predictive analytics to natural language processing, the impacts of Gen AI are profound. Businesses are embracing this transformative technology to enhance customer experiences, streamline operations, and gain a competitive edge in the digital era. As Gen AI continues to evolve, its integration into our daily lives is inevitable, reshaping the way we work, communicate, and interact with the world around us. Get ready for a future where artificial intelligence isn't just intelligent – it's ingenious.\n",
      "\n",
      "--------------------------------------------------------------------------------\n",
      "\u001b[31m\n",
      ">>>>>>>> TERMINATING RUN (40b7e8e2-0936-464b-85d4-1746ee588922): Maximum turns (2) reached\u001b[0m\n"
     ]
    }
   ],
   "source": [
    "res = critic.initiate_chat(\n",
    "    recipient=writer,\n",
    "    message=task,\n",
    "    max_turns=2,\n",
    "    summary_method=\"last_msg\"\n",
    ")"
   ]
  },
  {
   "cell_type": "markdown",
   "id": "24bea3bc-6892-4254-9a91-7fe3895d40f2",
   "metadata": {},
   "source": [
    "## **Nested chat**"
   ]
  },
  {
   "cell_type": "code",
   "execution_count": 31,
   "id": "72b8f5d8-cb68-4153-9cf0-c711b9c5b502",
   "metadata": {},
   "outputs": [],
   "source": [
    "SEO_reviewer = autogen.AssistantAgent(\n",
    "    name=\"SEO-Reviewer\",\n",
    "    llm_config=llm_config,\n",
    "    system_message=\"You are an SEO reviewer, known for \"\n",
    "        \"your ability to optimize content for search engines, \"\n",
    "        \"ensuring that it ranks well and attracts organic traffic. \" \n",
    "        \"Make sure your suggestion is concise (within 3 bullet points), \"\n",
    "        \"concrete and to the point. \"\n",
    "        \"Begin the review by stating your role.\",\n",
    ")"
   ]
  },
  {
   "cell_type": "code",
   "execution_count": 32,
   "id": "0ec6b922-0ced-4c7a-b69b-9ca2f58a1601",
   "metadata": {},
   "outputs": [],
   "source": [
    "legal_reviewer = autogen.AssistantAgent(\n",
    "    name=\"Legal-Reviewer\",\n",
    "    llm_config=llm_config,\n",
    "    system_message=\"You are a legal reviewer, known for \"\n",
    "        \"your ability to ensure that content is legally compliant \"\n",
    "        \"and free from any potential legal issues. \"\n",
    "        \"Make sure your suggestion is concise (within 3 bullet points), \"\n",
    "        \"concrete and to the point. \"\n",
    "        \"Begin the review by stating your role.\",\n",
    ")"
   ]
  },
  {
   "cell_type": "code",
   "execution_count": 33,
   "id": "b16c6717-310d-4bfc-9b49-a9f2cd06ae12",
   "metadata": {},
   "outputs": [],
   "source": [
    "ethics_reviewer = autogen.AssistantAgent(\n",
    "    name=\"Ethics-Reviewer\",\n",
    "    llm_config=llm_config,\n",
    "    system_message=\"You are an ethics reviewer, known for \"\n",
    "        \"your ability to ensure that content is ethically sound \"\n",
    "        \"and free from any potential ethical issues. \" \n",
    "        \"Make sure your suggestion is concise (within 3 bullet points), \"\n",
    "        \"concrete and to the point. \"\n",
    "        \"Begin the review by stating your role. \",\n",
    ")"
   ]
  },
  {
   "cell_type": "code",
   "execution_count": 34,
   "id": "77bc75b1-5a3b-4b73-a27c-2e461d80d009",
   "metadata": {},
   "outputs": [],
   "source": [
    "meta_reviewer = autogen.AssistantAgent(\n",
    "    name=\"Meta_Reviewer\",\n",
    "    llm_config=llm_config,\n",
    "    system_message=\"You are a meta reviewer, you aggragate and review \"\n",
    "    \"the work of other reviewers and give a final suggestion on the content.\",\n",
    ")"
   ]
  },
  {
   "cell_type": "markdown",
   "id": "47585344-565f-48e8-968b-1530e2a42c34",
   "metadata": {},
   "source": [
    "# **Start Nested Chat**"
   ]
  },
  {
   "cell_type": "code",
   "execution_count": 35,
   "id": "1948cd79-218b-4254-80c3-5505ac0579da",
   "metadata": {},
   "outputs": [],
   "source": [
    "def reflection_message(recipient, messages, sender, config):\n",
    "    return f'''Review the following content. \n",
    "            \\n\\n {recipient.chat_messages_for_summary(sender)[-1]['content']}'''\n",
    "\n",
    "review_chats = [\n",
    "    {\n",
    "     \"recipient\": SEO_reviewer, \n",
    "     \"message\": reflection_message, \n",
    "     \"summary_method\": \"reflection_with_llm\",\n",
    "     \"summary_args\": {\"summary_prompt\" : \n",
    "        \"Return review into as JSON object only:\"\n",
    "        \"{'Reviewer': '', 'Review': ''}. Here Reviewer should be your role\",},\n",
    "     \"max_turns\": 1},\n",
    "    {\n",
    "    \"recipient\": legal_reviewer,\n",
    "    \"message\": reflection_message, \n",
    "    \"summary_method\": \"reflection_with_llm\",\n",
    "    \"summary_args\": {\"summary_prompt\" : \n",
    "        \"Return review into as JSON object only:\"\n",
    "        \"{'Reviewer': '', 'Review': ''}.\",},\n",
    "     \"max_turns\": 1},\n",
    "    {\"recipient\": ethics_reviewer, \"message\": reflection_message, \n",
    "     \"summary_method\": \"reflection_with_llm\",\n",
    "     \"summary_args\": {\"summary_prompt\" : \n",
    "        \"Return review into as JSON object only:\"\n",
    "        \"{'reviewer': '', 'review': ''}\",},\n",
    "     \"max_turns\": 1},\n",
    "     {\"recipient\": meta_reviewer, \n",
    "      \"message\": \"Aggregrate feedback from all reviewers and give final suggestions on the writing.\", \n",
    "     \"max_turns\": 1},\n",
    "]"
   ]
  },
  {
   "cell_type": "code",
   "execution_count": 36,
   "id": "caa2f7ae-71fa-44fd-b350-f0f5589061d2",
   "metadata": {},
   "outputs": [],
   "source": [
    "critic.register_nested_chats(\n",
    "    review_chats,\n",
    "    trigger=writer,\n",
    ")"
   ]
  },
  {
   "cell_type": "code",
   "execution_count": 37,
   "id": "e14aa420-2f70-42c9-bf3d-d9adb2a05d55",
   "metadata": {},
   "outputs": [
    {
     "name": "stdout",
     "output_type": "stream",
     "text": [
      "\u001b[33mCritic\u001b[0m (to Writer):\n",
      "\n",
      "\n",
      "        Write a concise but engaging blogpost about\n",
      "        Gen AI. Make sure the blogpost is\n",
      "       within 10 words.\n",
      "       \n",
      "\n",
      "--------------------------------------------------------------------------------\n",
      "\u001b[33mWriter\u001b[0m (to Critic):\n",
      "\n",
      "Title: \"Unveiling Gen AI: The Future of Artificial Intelligence\"\n",
      "\n",
      "In this blog post, we'll explore the exciting realm of Gen AI.\n",
      "\n",
      "--------------------------------------------------------------------------------\n",
      "\u001b[34m\n",
      "********************************************************************************\u001b[0m\n",
      "\u001b[34mStarting a new chat....\u001b[0m\n",
      "\u001b[34m\n",
      "********************************************************************************\u001b[0m\n",
      "\u001b[33mCritic\u001b[0m (to SEO-Reviewer):\n",
      "\n",
      "Review the following content. \n",
      "            \n",
      "\n",
      " Title: \"Unveiling Gen AI: The Future of Artificial Intelligence\"\n",
      "\n",
      "In this blog post, we'll explore the exciting realm of Gen AI.\n",
      "\n",
      "--------------------------------------------------------------------------------\n",
      "\u001b[33mSEO-Reviewer\u001b[0m (to Critic):\n",
      "\n",
      "As an SEO reviewer, here are my suggestions:\n",
      "\n",
      "- Consider incorporating specific keywords related to artificial intelligence and its future to improve search visibility.\n",
      "- Include subheadings that feature relevant keywords to enhance the post's structure and SEO performance.\n",
      "- Add internal and external links to credible sources to improve the blog post's authority and ranking potential.\n",
      "\n",
      "--------------------------------------------------------------------------------\n",
      "\u001b[31m\n",
      ">>>>>>>> TERMINATING RUN (31d2c9c4-41a4-4357-9dd9-4a13a6e58500): Maximum turns (1) reached\u001b[0m\n",
      "\u001b[34m\n",
      "********************************************************************************\u001b[0m\n",
      "\u001b[34mStarting a new chat....\u001b[0m\n",
      "\u001b[34m\n",
      "********************************************************************************\u001b[0m\n",
      "\u001b[33mCritic\u001b[0m (to Legal-Reviewer):\n",
      "\n",
      "Review the following content. \n",
      "            \n",
      "\n",
      " Title: \"Unveiling Gen AI: The Future of Artificial Intelligence\"\n",
      "\n",
      "In this blog post, we'll explore the exciting realm of Gen AI.\n",
      "Context: \n",
      "{'Reviewer': 'Critic', 'Review': 'The content is intriguing and promising as it delves into the realm of Gen AI, offering a glimpse into the future of artificial intelligence. However, it lacks depth and detail. Expanding on specific examples, applications, and potential implications of Gen AI would make the post more informative and engaging for readers.'}\n",
      "\n",
      "--------------------------------------------------------------------------------\n",
      "\u001b[33mLegal-Reviewer\u001b[0m (to Critic):\n",
      "\n",
      "As a legal reviewer, it's crucial to ensure that the content does not contain any potential legal issues:\n",
      "- Consider addressing any legal implications or considerations related to the development and implementation of Gen AI technology.\n",
      "- Avoid making speculative claims about the legal status or consequences of Gen AI without concrete evidence or expert insights.\n",
      "- Ensure that any statements about legal frameworks, regulations, or ethical guidelines are accurate and up to date.\n",
      "\n",
      "--------------------------------------------------------------------------------\n",
      "\u001b[31m\n",
      ">>>>>>>> TERMINATING RUN (fa48754d-dd7f-4877-a3a8-9cabc1d12490): Maximum turns (1) reached\u001b[0m\n",
      "\u001b[34m\n",
      "********************************************************************************\u001b[0m\n",
      "\u001b[34mStarting a new chat....\u001b[0m\n",
      "\u001b[34m\n",
      "********************************************************************************\u001b[0m\n",
      "\u001b[33mCritic\u001b[0m (to Ethics-Reviewer):\n",
      "\n",
      "Review the following content. \n",
      "            \n",
      "\n",
      " Title: \"Unveiling Gen AI: The Future of Artificial Intelligence\"\n",
      "\n",
      "In this blog post, we'll explore the exciting realm of Gen AI.\n",
      "Context: \n",
      "{'Reviewer': 'Critic', 'Review': 'The content is intriguing and promising as it delves into the realm of Gen AI, offering a glimpse into the future of artificial intelligence. However, it lacks depth and detail. Expanding on specific examples, applications, and potential implications of Gen AI would make the post more informative and engaging for readers.'}\n",
      "{'Reviewer': 'Critic', 'Review': 'The content is intriguing and promising as it delves into the realm of Gen AI, offering a glimpse into the future of artificial intelligence. However, it lacks depth and detail. Expanding on specific examples, applications, and potential implications of Gen AI would make the post more informative and engaging for readers.'}\n",
      "\n",
      "--------------------------------------------------------------------------------\n",
      "\u001b[33mEthics-Reviewer\u001b[0m (to Critic):\n",
      "\n",
      "As an ethics reviewer, my role is to ensure that content is ethically sound and free from any potential ethical issues. \n",
      "\n",
      "Suggestions for enhancing the content:\n",
      "\n",
      "- Provide transparency about how Gen AI addresses ethical concerns, such as data privacy and bias, to promote trust in AI technologies.\n",
      "- Include discussions on the ethical considerations and responsible use of Gen AI to encourage ethical decision-making in the development and implementation of AI systems.\n",
      "- Offer insights on the potential societal impacts of Gen AI, highlighting the importance of ethical frameworks and guidelines for its ethical deployment.\n",
      "\n",
      "--------------------------------------------------------------------------------\n",
      "\u001b[31m\n",
      ">>>>>>>> TERMINATING RUN (236d99f7-146c-4a21-bb52-c546606e8afe): Maximum turns (1) reached\u001b[0m\n",
      "\u001b[34m\n",
      "********************************************************************************\u001b[0m\n",
      "\u001b[34mStarting a new chat....\u001b[0m\n",
      "\u001b[34m\n",
      "********************************************************************************\u001b[0m\n",
      "\u001b[33mCritic\u001b[0m (to Meta_Reviewer):\n",
      "\n",
      "Aggregrate feedback from all reviewers and give final suggestions on the writing.\n",
      "Context: \n",
      "{'Reviewer': 'Critic', 'Review': 'The content is intriguing and promising as it delves into the realm of Gen AI, offering a glimpse into the future of artificial intelligence. However, it lacks depth and detail. Expanding on specific examples, applications, and potential implications of Gen AI would make the post more informative and engaging for readers.'}\n",
      "{'Reviewer': 'Critic', 'Review': 'The content is intriguing and promising as it delves into the realm of Gen AI, offering a glimpse into the future of artificial intelligence. However, it lacks depth and detail. Expanding on specific examples, applications, and potential implications of Gen AI would make the post more informative and engaging for readers.'}\n",
      "{'reviewer': '', 'review': ''}\n",
      "\n",
      "--------------------------------------------------------------------------------\n",
      "\u001b[33mMeta_Reviewer\u001b[0m (to Critic):\n",
      "\n",
      "Overall, the reviewers find the content intriguing and promising as it explores Gen AI and the future of artificial intelligence. However, there is a consensus that the content lacks depth and detail. The suggestion to improve the post includes expanding on specific examples, applications, and potential implications of Gen AI to make it more informative and engaging for readers. In summary, enhancing the content by providing more detailed insights and examples would greatly benefit the overall quality of the writing.\n",
      "\n",
      "--------------------------------------------------------------------------------\n",
      "\u001b[31m\n",
      ">>>>>>>> TERMINATING RUN (4581dc53-667d-4f40-b21d-66ddc48701d7): Maximum turns (1) reached\u001b[0m\n",
      "\u001b[33mCritic\u001b[0m (to Writer):\n",
      "\n",
      "Overall, the reviewers find the content intriguing and promising as it explores Gen AI and the future of artificial intelligence. However, there is a consensus that the content lacks depth and detail. The suggestion to improve the post includes expanding on specific examples, applications, and potential implications of Gen AI to make it more informative and engaging for readers. In summary, enhancing the content by providing more detailed insights and examples would greatly benefit the overall quality of the writing.\n",
      "\n",
      "--------------------------------------------------------------------------------\n",
      "\u001b[33mWriter\u001b[0m (to Critic):\n",
      "\n",
      "Title: \"Unveiling Gen AI: The Future of Artificial Intelligence\"\n",
      "\n",
      "Delve into the world of Gen AI with insightful examples.\n",
      "\n",
      "--------------------------------------------------------------------------------\n",
      "\u001b[31m\n",
      ">>>>>>>> TERMINATING RUN (4b5ff351-c846-4a5c-94ab-e02d8030ce08): Maximum turns (2) reached\u001b[0m\n"
     ]
    }
   ],
   "source": [
    "res = critic.initiate_chat(\n",
    "    recipient=writer,\n",
    "    message=task,\n",
    "    max_turns=2,\n",
    "    summary_method=\"last_msg\"\n",
    ")"
   ]
  },
  {
   "cell_type": "code",
   "execution_count": null,
   "id": "fe1dd205-d20d-4123-b159-def88ef03ae6",
   "metadata": {},
   "outputs": [],
   "source": []
  }
 ],
 "metadata": {
  "kernelspec": {
   "display_name": "Python 3 (ipykernel)",
   "language": "python",
   "name": "python3"
  },
  "language_info": {
   "codemirror_mode": {
    "name": "ipython",
    "version": 3
   },
   "file_extension": ".py",
   "mimetype": "text/x-python",
   "name": "python",
   "nbconvert_exporter": "python",
   "pygments_lexer": "ipython3",
   "version": "3.11.5"
  }
 },
 "nbformat": 4,
 "nbformat_minor": 5
}
